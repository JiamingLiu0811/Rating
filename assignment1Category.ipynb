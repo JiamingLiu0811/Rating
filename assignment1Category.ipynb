{
 "cells": [
  {
   "cell_type": "code",
   "execution_count": 227,
   "id": "3b50dce6",
   "metadata": {},
   "outputs": [],
   "source": [
    "import gzip\n",
    "from collections import defaultdict\n",
    "import math\n",
    "import scipy.optimize\n",
    "from sklearn import svm\n",
    "import numpy as np\n",
    "import string\n",
    "import random\n",
    "import string\n",
    "from sklearn import linear_model\n",
    "import nltk\n",
    "from nltk.stem.porter import PorterStemmer\n",
    "from nltk.corpus import stopwords\n",
    "from nltk.tokenize import word_tokenize\n",
    "from sklearn.linear_model import LogisticRegression\n"
   ]
  },
  {
   "cell_type": "code",
   "execution_count": 254,
   "id": "1f46dfbc",
   "metadata": {},
   "outputs": [],
   "source": [
    "\n",
    "import warnings\n",
    "warnings.filterwarnings(\"ignore\")"
   ]
  },
  {
   "cell_type": "code",
   "execution_count": 228,
   "id": "5f20bc45",
   "metadata": {},
   "outputs": [],
   "source": [
    "#nltk.download('stopwords')"
   ]
  },
  {
   "cell_type": "code",
   "execution_count": 99,
   "id": "bf81948f",
   "metadata": {},
   "outputs": [],
   "source": [
    "stop_words = set(stopwords.words('english'))\n",
    "stemmer = PorterStemmer()\n",
    "wordCount = defaultdict(int)\n",
    "punctuation = set(string.punctuation)"
   ]
  },
  {
   "cell_type": "code",
   "execution_count": 100,
   "id": "55112604",
   "metadata": {},
   "outputs": [
    {
     "name": "stdout",
     "output_type": "stream",
     "text": [
      "{'s', 'some', 'shan', 've', 'nor', 't', 'these', 'what', 'out', 'i', \"wasn't\", \"hadn't\", 'do', 'at', \"didn't\", 'both', 'because', 'didn', 'under', 'wasn', 'we', 'be', 'of', 'again', 'same', \"wouldn't\", 'am', \"that'll\", 'wouldn', 'the', 'on', 'myself', 'himself', 'needn', 'further', 'about', 'theirs', 'him', 'don', \"should've\", 'your', 'when', 'were', \"mightn't\", 'up', 'won', 'or', 'any', 'those', 'ma', 'for', 'above', \"aren't\", 'which', 'a', \"haven't\", \"mustn't\", 'hadn', 'should', 'is', 'weren', 'to', 'few', 'too', 'before', 'it', \"don't\", 'shouldn', 'our', 'hasn', 'ours', 'who', 'where', 'most', 'he', 'will', 'this', 'into', 'being', 'y', \"hasn't\", \"doesn't\", 'hers', 'have', 'as', 'ourselves', 'she', 'has', 'yourself', \"couldn't\", 'herself', 'aren', \"you've\", 'having', 'with', 'between', 'ain', \"you'll\", 'isn', 'doesn', 'against', 'how', 'yourselves', 'here', 'whom', 'you', 'down', 'such', 'yours', 'doing', 'mustn', 'not', 'why', 'all', 'that', 'more', 'll', \"needn't\", 'so', 'from', 'does', 'them', 'once', 'mightn', 'just', 'in', \"shan't\", 'other', 'no', 'd', 'are', 'was', 'me', 'only', \"it's\", \"she's\", 'own', 'its', 'then', 'her', \"weren't\", 'off', 'been', \"you're\", 'they', 'there', 'can', 'than', \"won't\", 'but', 'by', 'after', 'very', 'itself', 'an', 'their', 'm', 'my', 'did', 'his', 'while', 'couldn', 're', \"shouldn't\", 'during', \"isn't\", 'had', \"you'd\", 'through', 'each', 'over', 'below', 'now', 'if', 'haven', 'until', 'o', 'and', 'themselves'}\n"
     ]
    }
   ],
   "source": [
    "#print(stop_words)"
   ]
  },
  {
   "cell_type": "code",
   "execution_count": 94,
   "id": "4d893c86",
   "metadata": {},
   "outputs": [],
   "source": [
    "def readGz(path):\n",
    "    for l in gzip.open(path, 'rt'):\n",
    "        yield eval(l)"
   ]
  },
  {
   "cell_type": "code",
   "execution_count": 95,
   "id": "155dc882",
   "metadata": {},
   "outputs": [],
   "source": [
    "\n",
    "def readCSV(path):\n",
    "    f = gzip.open(path, 'rt')\n",
    "    f.readline()\n",
    "    for l in f:\n",
    "        u,b,r = l.strip().split(',')\n",
    "        r = int(r)\n",
    "        yield u,b,r"
   ]
  },
  {
   "cell_type": "code",
   "execution_count": 168,
   "id": "0f398499",
   "metadata": {},
   "outputs": [],
   "source": [
    "\n",
    "data = []\n",
    "for d in readGz(\"train_Category.json.gz\"):\n",
    "    data.append(d)"
   ]
  },
  {
   "cell_type": "code",
   "execution_count": 169,
   "id": "d7e1c9f8",
   "metadata": {},
   "outputs": [
    {
     "name": "stdout",
     "output_type": "stream",
     "text": [
      "90000\n",
      "10000\n"
     ]
    }
   ],
   "source": [
    "\n",
    "dataTrain = data[:90000]\n",
    "dataValid = data[90000:100000]\n",
    "print(len(dataTrain))\n",
    "print(len(dataValid))"
   ]
  },
  {
   "cell_type": "code",
   "execution_count": 109,
   "id": "78de3e64",
   "metadata": {},
   "outputs": [],
   "source": [
    "punctuation = set(string.punctuation)"
   ]
  },
  {
   "cell_type": "code",
   "execution_count": 107,
   "id": "2f497197",
   "metadata": {},
   "outputs": [
    {
     "data": {
      "text/plain": [
       "267585"
      ]
     },
     "execution_count": 107,
     "metadata": {},
     "output_type": "execute_result"
    }
   ],
   "source": [
    "wordCount1 = defaultdict(int)\n",
    "for d in dataTrain:\n",
    "    r = ''.join([c for c in d['review_text'].lower() if not c in punctuation])\n",
    "    for w in r.split(): \n",
    "            wordCount1[w] += 1\n",
    "\n",
    "counts = [(wordCount[w], w) for w in wordCount]\n",
    "counts.sort()\n",
    "counts.reverse()\n",
    "words = [x[1] for x in counts2[:1000]]"
   ]
  },
  {
   "cell_type": "code",
   "execution_count": 110,
   "id": "47aadcf4",
   "metadata": {},
   "outputs": [
    {
     "data": {
      "text/plain": [
       "267438"
      ]
     },
     "execution_count": 110,
     "metadata": {},
     "output_type": "execute_result"
    }
   ],
   "source": [
    "wordCount2 = defaultdict(int)\n",
    "for d in dataTrain:\n",
    "    r = ''.join([c for c in d['review_text'].lower() if not c in punctuation])\n",
    "    for w2 in r.split(): \n",
    "        if w2 in [d for d in stop_words]: \n",
    "            continue\n",
    "        else:\n",
    "            wordCount2[w2] += 1\n",
    "\n",
    "counts2 = [(wordCount2[w], w) for w in wordCount2]\n",
    "counts2.sort()\n",
    "counts2.reverse()\n",
    "words2 = [x[1] for x in counts2[:1000]]\n"
   ]
  },
  {
   "cell_type": "code",
   "execution_count": 111,
   "id": "7355cc5c",
   "metadata": {},
   "outputs": [
    {
     "data": {
      "text/plain": [
       "220609"
      ]
     },
     "execution_count": 111,
     "metadata": {},
     "output_type": "execute_result"
    }
   ],
   "source": [
    "wordCount3 = defaultdict(int)\n",
    "for d in dataTrain:\n",
    "    r = ''.join([c for c in d['review_text'].lower() if not c in punctuation])\n",
    "    for w2 in r.split(): \n",
    "        w3 = stemmer.stem(w2)\n",
    "        if w3 in [d for d in stop_words]: \n",
    "            continue\n",
    "        else:\n",
    "            wordCount3[w3] += 1\n",
    "\n",
    "len(wordCount3)"
   ]
  },
  {
   "cell_type": "code",
   "execution_count": 262,
   "id": "38173ef5",
   "metadata": {},
   "outputs": [],
   "source": [
    "counts3 = [(wordCount3[w], w) for w in wordCount3]\n",
    "counts3.sort()\n",
    "counts3.reverse()"
   ]
  },
  {
   "cell_type": "code",
   "execution_count": 178,
   "id": "590c236e",
   "metadata": {},
   "outputs": [],
   "source": [
    "wordId = dict(zip(words, range(len(words))))\n",
    "wordSet = set(words)"
   ]
  },
  {
   "cell_type": "code",
   "execution_count": 137,
   "id": "88d54545",
   "metadata": {},
   "outputs": [],
   "source": [
    "wordId2 = dict(zip(words2, range(len(words2))))\n",
    "wordSet2 = set(words2)"
   ]
  },
  {
   "cell_type": "code",
   "execution_count": 336,
   "id": "655d7a91",
   "metadata": {},
   "outputs": [],
   "source": [
    "words3 = [x[1] for x in counts3[:50000]]\n",
    "wordId3 = dict(zip(words3, range(len(words3))))\n",
    "wordSet3 = set(words3)"
   ]
  },
  {
   "cell_type": "code",
   "execution_count": 337,
   "id": "7bc976d8",
   "metadata": {},
   "outputs": [
    {
     "data": {
      "text/plain": [
       "50000"
      ]
     },
     "execution_count": 337,
     "metadata": {},
     "output_type": "execute_result"
    }
   ],
   "source": [
    "len(words3)"
   ]
  },
  {
   "cell_type": "code",
   "execution_count": 338,
   "id": "78f43f74",
   "metadata": {},
   "outputs": [],
   "source": [
    "def feature(datum): \n",
    "    feat = [0]*len(words3)\n",
    "    r = ''.join([c for c in datum['review_text'].lower() if not c in punctuation])\n",
    "    for w in r.split():\n",
    "        w2 = stemmer.stem(w)\n",
    "        if w2 not in wordSet3: continue\n",
    "        if w2 in [d for d in stop_words]: continue\n",
    "        feat[wordId3[w2]] += 1\n",
    "    \n",
    "    return feat"
   ]
  },
  {
   "cell_type": "code",
   "execution_count": null,
   "id": "a30cb803",
   "metadata": {},
   "outputs": [],
   "source": [
    "X = [feature(d) for d in data]"
   ]
  },
  {
   "cell_type": "code",
   "execution_count": null,
   "id": "5a74bd76",
   "metadata": {},
   "outputs": [],
   "source": [
    "y = [d['genreID'] for d in data]"
   ]
  },
  {
   "cell_type": "code",
   "execution_count": null,
   "id": "a8c62ae0",
   "metadata": {},
   "outputs": [],
   "source": [
    "len(X)"
   ]
  },
  {
   "cell_type": "code",
   "execution_count": 285,
   "id": "d672d8b0",
   "metadata": {},
   "outputs": [
    {
     "data": {
      "text/plain": [
       "LogisticRegression(C=1)"
      ]
     },
     "execution_count": 285,
     "metadata": {},
     "output_type": "execute_result"
    }
   ],
   "source": [
    "mod = LogisticRegression(solver='lbfgs', C=10, multi_class='auto', max_iter=1000)\n",
    "mod1 = linear_model.LogisticRegression(C = 0.15)\n",
    "mod2 = linear_model.LogisticRegression(C = 1)\n",
    "mod.fit(Xtrain,ytrain)\n",
    "mod1.fit(Xtrain,ytrain)\n",
    "mod2.fit(Xtrain,ytrain)"
   ]
  },
  {
   "cell_type": "code",
   "execution_count": null,
   "id": "026d37d3",
   "metadata": {},
   "outputs": [],
   "source": [
    "mod1 = linear_model.LogisticRegression(C = 0.2)\n",
    "#0.7366  0.3 8000\n",
    "#0.7378  0.2 8000\n",
    "#0.7482  0.2 14000\n",
    "mod1.fit(X,y)"
   ]
  },
  {
   "cell_type": "code",
   "execution_count": null,
   "id": "6ad3ab24",
   "metadata": {},
   "outputs": [],
   "source": [
    "mod2 = linear_model.LogisticRegression(C = 0.13)\n",
    "mod2.fit(X,y)\n",
    "#0.7392  8000\n",
    "#0.7492 14000"
   ]
  },
  {
   "cell_type": "code",
   "execution_count": 328,
   "id": "bf6f73b1",
   "metadata": {},
   "outputs": [
    {
     "data": {
      "text/plain": [
       "LogisticRegression(C=0.1)"
      ]
     },
     "execution_count": 328,
     "metadata": {},
     "output_type": "execute_result"
    }
   ],
   "source": [
    "mod3 = linear_model.LogisticRegression(C = 0.1)\n",
    "mod3.fit(X,y)"
   ]
  },
  {
   "cell_type": "code",
   "execution_count": 317,
   "id": "e2a1b40d",
   "metadata": {},
   "outputs": [
    {
     "data": {
      "text/plain": [
       "LogisticRegression(C=0.3, class_weight='balanced')"
      ]
     },
     "execution_count": 317,
     "metadata": {},
     "output_type": "execute_result"
    }
   ],
   "source": [
    "mod22 = linear_model.LogisticRegression(C=0.3, class_weight='balanced')\n",
    "mod22.fit(X,y)\n",
    "#  8000 0.7138"
   ]
  },
  {
   "cell_type": "code",
   "execution_count": 296,
   "id": "d847f940",
   "metadata": {},
   "outputs": [],
   "source": [
    "catDict = {\n",
    "  \"children\": 0,\n",
    "  \"comics_graphic\": 1,\n",
    "  \"fantasy_paranormal\": 2,\n",
    "  \"mystery_thriller_crime\": 3,\n",
    "  \"young_adult\": 4\n",
    "}"
   ]
  },
  {
   "cell_type": "code",
   "execution_count": null,
   "id": "160279db",
   "metadata": {},
   "outputs": [],
   "source": [
    "predictions = open(\"predictions_Category.csv\", 'w')\n",
    "predictions.write(\"userID,reviewID,prediction\\n\")\n",
    "for l in readGz(\"test_Category.json.gz\"):\n",
    "    #cat = mod.predict([feature(l)])\n",
    "    cat = mod1.predict([feature(l)])\n",
    "    #cat = mod2.predict([feature(l)])\n",
    "    #cat = mod3.predict([feature(l)])\n",
    "    #cat = mod4.predict([feature(l)])\n",
    "    #cat = mod5.predict([feature(l)])\n",
    "    #cat = mod6.predict([feature(l)])\n",
    "    predictions.write(l['user_id'] + ',' + l['review_id'] + \",\" + str(cat[0]) + \"\\n\")\n",
    "\n",
    "predictions.close()"
   ]
  },
  {
   "cell_type": "code",
   "execution_count": null,
   "id": "6a0a9b18",
   "metadata": {},
   "outputs": [],
   "source": []
  }
 ],
 "metadata": {
  "kernelspec": {
   "display_name": "Python 3 (ipykernel)",
   "language": "python",
   "name": "python3"
  },
  "language_info": {
   "codemirror_mode": {
    "name": "ipython",
    "version": 3
   },
   "file_extension": ".py",
   "mimetype": "text/x-python",
   "name": "python",
   "nbconvert_exporter": "python",
   "pygments_lexer": "ipython3",
   "version": "3.9.13"
  }
 },
 "nbformat": 4,
 "nbformat_minor": 5
}
